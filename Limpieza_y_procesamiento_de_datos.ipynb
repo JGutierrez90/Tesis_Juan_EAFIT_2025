{
  "nbformat": 4,
  "nbformat_minor": 0,
  "metadata": {
    "colab": {
      "provenance": [],
      "authorship_tag": "ABX9TyNW0NGBSZL26/MbV7R6W4Ry",
      "include_colab_link": true
    },
    "kernelspec": {
      "name": "python3",
      "display_name": "Python 3"
    },
    "language_info": {
      "name": "python"
    }
  },
  "cells": [
    {
      "cell_type": "markdown",
      "metadata": {
        "id": "view-in-github",
        "colab_type": "text"
      },
      "source": [
        "<a href=\"https://colab.research.google.com/github/JGutierrez90/Tesis_Juan_EAFIT_2025/blob/main/Limpieza_y_procesamiento_de_datos.ipynb\" target=\"_parent\"><img src=\"https://colab.research.google.com/assets/colab-badge.svg\" alt=\"Open In Colab\"/></a>"
      ]
    },
    {
      "cell_type": "markdown",
      "source": [
        "#0 Set Up del notebook para el procesamiento de los datos"
      ],
      "metadata": {
        "id": "QizL36GOsmdU"
      }
    },
    {
      "cell_type": "code",
      "execution_count": null,
      "metadata": {
        "id": "KG1Ct7WBsO89"
      },
      "outputs": [],
      "source": [
        "!pip install pingouin\n",
        " #importar las librerias necesarias.\n",
        "\n",
        "import pandas as pd\n",
        "import numpy as np\n",
        "import matplotlib.pyplot as plt\n",
        "import seaborn as sns\n",
        "from pingouin import cronbach_alpha"
      ]
    },
    {
      "cell_type": "markdown",
      "source": [
        "#1 Cargue de los datos en dataframe"
      ],
      "metadata": {
        "id": "2eO4zREQvYJn"
      }
    },
    {
      "cell_type": "code",
      "source": [
        "#Carga del archivo en un dataframe\n",
        "df = pd.read_excel('data_enc.xlsx')\n",
        "#Tamaño de la tabla original sin procesar\n",
        "print(\"la tabla tiene (filas, Columnas)\\n\\t\\t\", df.shape)"
      ],
      "metadata": {
        "id": "KVwLEcNAvQ9k"
      },
      "execution_count": null,
      "outputs": []
    },
    {
      "cell_type": "markdown",
      "source": [
        "#2 Limpieza de los datos de encuesta"
      ],
      "metadata": {
        "id": "ihsuMYGqvcKd"
      }
    },
    {
      "cell_type": "code",
      "source": [
        "#Quitar a los registros que correspondan a menores de edad\n",
        "dfpre1= df[df['Edad en años (solo números sin espacio)'] >= 18]\n",
        "\n",
        "#Quitar a los registros de edad que estén vacíos\n",
        "dfpre1 = dfpre1[\n",
        "    dfpre1['Edad en años (solo números sin espacio)'].notna() &\n",
        "    (dfpre1['Edad en años (solo números sin espacio)'].astype(str).str.strip() != '')\n",
        "]\n",
        "\n",
        "#Quitar a los registros que correspondan a encuestas incompletas\n",
        "dfpre1 = dfpre1[dfpre1['Progreso'] >= 76]\n",
        "print(dfpre1['Progreso'].describe())\n",
        "\n",
        "\n",
        "#Quitar a los registros atípicos que persisten sin el diligenciamiento completo\n",
        "id_a_borrar = ['R_7lSrkdBTUeNyNFv', 'R_5tLSJarq6XpSzgC', 'R_6S7SnL86wkW3bUg', 'R_3RXWSqsPp2FsRvb']\n",
        "dfpre1 = dfpre1[~dfpre1['ID de respuesta'].isin(id_a_borrar)]\n",
        "\n",
        "# Tamaño de la tabla luego de la remoción de encuestas con algún tipo de problema\n",
        "print('La tabla tiene (Filas, Coumnnas) \\n\\t\\t', dfpre1.shape)"
      ],
      "metadata": {
        "id": "6o8xw-y0vgwo"
      },
      "execution_count": null,
      "outputs": []
    },
    {
      "cell_type": "code",
      "source": [
        "#Retirar de la primera base de datos filtrada columnas que no voy a utilizar\n",
        "col_a_borrar = [\n",
        "    'Fecha de inicio',\n",
        "    'Fecha de finalización',\n",
        "    'Tipo de respuesta',\n",
        "    'Dirección IP',\n",
        "    'Progreso',\n",
        "    'Duración (en segundos)',\n",
        "    'Finalizado',\n",
        "    'Fecha registrada',\n",
        "    'Latitud de la ubicación',\n",
        "    'Longitud de la ubicación',\n",
        "    'Canal de la distribución',\n",
        "    'Idioma del usuario',\n",
        "    'Addressing gender issues in STEM higher education institutions\\n\\n\\n\\nEncuesta: \"Desde STEM hasta mi Programa Académico: Una Mirada Personal\"\\n\\n\\n\\nCONSENTIMIENTO INFORMADO\\n \\n\\nTítulo del Proyecto: STEM sin Fronteras de Género: Estrategias para una Educación Inclusiva\\n\\n\\n\\nDescripción del Proyecto:\\n\\nUsted ha sido seleccionado para participar en un estudio llevado a cabo por el Institute for the Future of Education del Tecnológico de Monterrey, México, junto con la Universidad del Norte, la Universidad EAFIT y la Universidad ICESI en Colombia. Este estudio tiene como objetivo explorar las perspectivas de los estudiantes sobre su desarrollo personal y su experiencia en los programas académicos de las áreas de ciencia, ingeniería, tecnología y matemáticas (STEM, por sus siglas en inglés).\\n\\n\\n\\nComo sujeto de la investigación a usted se le solicitará participar en las siguientes actividades:\\n\\n\\n\\tActividad: Encuesta.\\n\\tTiempo de Duración (aproximado): 12-14 minutos.\\n\\tObjetivo de la actividad: Recopilar datos sobre la perspectiva del estudiantado en relación con su programa académico en áreas STEM. Una vez completada la investigación, se destruirán todas las fuentes de datos, notas y otros documentos relacionados. Los datos de la investigación serán recogidos por la Dra. Silvana Montoya Noguera investigadora responsable, y serán utilizados únicamente en el contexto del proyecto previamente estipulado. La investigación se desarrollará en los predios de la Universidad.\\n\\n\\nRiesgos y Beneficios:\\n\\nPueden existir riesgos asociados a la participación en este estudio, como posibles tensiones emocionales al reflexionar sobre temas sensibles. Sin embargo, los beneficios incluyen la oportunidad de contribuir a la comprensión y abordaje de los problemas de género en las instituciones de educación superior que se centran en las áreas STEM. Además, en caso de ser necesario, pueden contactar al El Departamento de Desarrollo Estudiantil, de la Dirección de Desarrollo Humano-Bienestar Universitario a través del correo electrónico dllo.estudiantil@eafit.edu.co para recibir apoyo.\\n\\nPor otro lado, este estudio ofrece beneficios significativos, incluyendo la oportunidad de contribuir a la comprensión y solución de los problemas de género en las instituciones de educación superior, especialmente en las áreas STEM.\\n\\n\\n\\nRemuneración: \\n\\nNo se ofrece remuneración por participar en este estudio.\\n\\n\\n\\nAlmacenamiento de datos para proteger la confidencialidad:\\n\\nSu identidad y cualquier otra información que lo pueda identificar no serán reveladas en ninguna presentación pública del estudio. La información será tratada de forma confidencial y todas las fuentes de datos se mantendrán resguardadas por el equipo de investigación.\\n\\n\\n\\nTiempo:\\n\\nEl tiempo de participación requerido por el proyecto es de aproximadamente de 12 a 14 minutos para completar la encuesta. El período de recopilación de datos es de febrero a abril de 2025.\\n\\n\\n\\nUso de los resultados:\\n\\nLos resultados de este estudio se presentarán en forma de informes a comisiones institucionales, ponencias a congresos, encuentros o reuniones nacionales e internacionales, artículos para revistas indexadas, y capítulos de libros y/o libros.\\n\\n \\n\\nDERECHO DE LOS PARTICIPANTES\\n\\n\\n\\nInvestigadores principales: Dra. Silvana Montoya Noguera.\\n\\n\\n\\nTítulo del proyecto: Addressing gender issues in STEM higher education institutions.\\n\\n\\n\\nAl seleccionar la opción \"Sí\", acepto que: \\n\\n\\n\\tHe leído y comprendido la descripción del estudio.\\n\\tHe tenido la oportunidad de formular preguntas sobre los propósitos y procedimientos del estudio.\\n\\tEntiendo que mi participación en el estudio es voluntaria y que puedo decidir no participar o retirarme en cualquier momento sin ningún perjuicio futuro.\\n\\tAcepto que los investigadores pueden retirarme del estudio según su discreción profesional.\\n\\tEn caso de que surja nueva información durante el estudio que pueda afectar mi disposición para continuar participando, los investigadores me informarán al respecto.\\n\\tEntiendo que cualquier información que pueda identificarme personalmente derivada del estudio no será divulgada sin mi consentimiento explícito.\\n\\tConfirmo que he recibido la información necesaria sobre el estudio.\\n\\tAl seleccionar “Sí”, expreso mi decisión de participar en el estudio.\\n\\n\\nSi tiene alguna pregunta o duda respecto a este estudio en que se le está invitando a participar, puede contactarse con la Dra. Silvana Montoya Noguera, investigadora responsable, al correo electrónico: smontoyan@eafit.edu.co. Si tiene dudas con respecto a los derechos y deberes que tiene usted como sujeto participante del estudio debe comunicarse con el Natalia Yepes Jimenez del Comité de ética en investigación que avala este proyecto, en este caso, el Comité de ética en investigación de la Universidad EAFIT: cei@eafit.edu.co\\u200b\\u200b\\u200b. Página web del Comité: https://www.eafit.edu.co/investigacion/Paginas/Comite-Institucional-de-Etica-en-Investigacion.aspx.\\n\\n\\n \\n\\n Acepto participar',\n",
        "    'Nombre completo',\n",
        "    'Código',\n",
        "    '1. ¿Cuáles son los adjetivos o términos que describen a las mujeres en áreas STEM? Es decir, las mujeres en áreas STEM son...',\n",
        "    '2. ¿Cuáles son los adjetivos o términos que describen a los hombres en áreas STEM? Es decir, los hombres en áreas STEM son...',\n",
        "    '3. ¿Cuáles son las características (sociales, psicológicas, físicas, etc.) de una persona que estudia en áreas STEM?',\n",
        "    '4. ¿Cuáles son las características (sociales, psicológicas, físicas, etc.) de una persona que estudia ciencias sociales, humanidades, letras, etc.?',\n",
        "    '5. ¿Qué áreas de estudio, programas y/o profesiones consideras \"exclusivas para hombres\", \"exclusivas para mujeres\" y/o \"para ambos sexos\"? ¿Por qué?',\n",
        "    '6. ¿Cuál es tu percepción acerca de los derechos y oportunidades de mujeres y hombres en los estudios y/o en el ámbito laboral relacionados con el área STEM? ¿Por qué?',\n",
        "    '7. Indica brevemente qué consideras por ciencia.'\n",
        "]\n",
        "dfpre2 = dfpre1.drop(columns = col_a_borrar)"
      ],
      "metadata": {
        "id": "Y5BwsL8fvozS"
      },
      "execution_count": null,
      "outputs": []
    },
    {
      "cell_type": "markdown",
      "source": [
        "#3 Exploración de datos inicial."
      ],
      "metadata": {
        "id": "nuzuvFCLv4i7"
      }
    },
    {
      "cell_type": "code",
      "source": [
        "#PRIMERA VARIABLE A DESCRIBIR: GENERO *PASTEL*\n",
        "\n",
        "past_gen = dfpre2['Sexo biológico'].value_counts()\n",
        "print('\\n\\n')\n",
        "# --- Graficamos el pastel con mejoras ---\n",
        "plt.figure(figsize=(7, 7)) # Hacemos el gráfico más grande y cuadrado para que se vea bien\n",
        "\n",
        "past_gen.plot.pie(\n",
        "    autopct='%1.1f%%',  # Formato para mostrar porcentajes con un decimal. Ej: '37.5%'\n",
        "    startangle=90,      # Inicia el primer trozo en la parte superior (90 grados)\n",
        "    shadow=False,        # Añade una ligera sombra para un efecto 3D\n",
        "    explode=(0.1, 0.1, 0.1) # \"Explota\" o separa ligeramente el primer trozo (el más grande)\n",
        ")\n",
        "plt.title('DISTRIBUCIÓN DE GÉNERO EN ENCUESTADOS', fontweight = 'bold')\n",
        "plt.ylabel('') # Borramos la etiqueta de y\n",
        "plt.show()"
      ],
      "metadata": {
        "id": "KCX-MKoQvrwz"
      },
      "execution_count": null,
      "outputs": []
    },
    {
      "cell_type": "code",
      "source": [
        "#PRIMERA VARIABLE A DESCRIBIR: GENERO *BARRAS*\n",
        "\n",
        "bar_gen = dfpre2['Sexo biológico'].value_counts() #Conteo de cada categoría.\n",
        "\n",
        "fig, ax = plt.subplots(figsize=(10, 6)) # Ajuste del tamaño de la figura en esta línea.\n",
        "\n",
        "bars1 = ax.bar(bar_gen.index, bar_gen.values) #Construcción de gráfico de barras.\n",
        "\n",
        "#Quitar las marcas del eje y\n",
        "ax.yaxis.set_visible(True)\n",
        "#Dejar la línea y los guiones pequeños solamente\n",
        "ax.set_yticks([])\n",
        "ax.set_yticklabels([])\n",
        "\n",
        "#Mostrar valores como etiquetas en la parte superior del gráfico.\n",
        "ax.bar_label(bars1, fmt='%d', padding=4, fontsize=14, color='black')\n",
        "\n",
        "plt.title('DISTRIBUCIÓN DE GÉNERO EN ENCUESTADOS', fontweight = 'bold')\n",
        "plt.tight_layout()\n",
        "plt.show()"
      ],
      "metadata": {
        "id": "yPfkmqqIwFmM"
      },
      "execution_count": null,
      "outputs": []
    },
    {
      "cell_type": "code",
      "source": [
        "#SEGUNDA VARIABLE A DESCRIBIR: EDAD *PASTEL*\n",
        "\n",
        "# Definir los bins (ajusta si tienes valores fuera del rango)\n",
        "bins = range(18, 48, 6)  # Rango de 18 a 42 años, de 6 en 6\n",
        "labels = [f\"{i}-{i+6}\" for i in bins[:-1]]  # Etiquetas tipo \"15-19\", \"20-24\", etc.\n",
        "\n",
        "# Agrupar edades en rangos\n",
        "past_edad = pd.cut(dfpre2[\"Edad en años (solo números sin espacio)\"], bins=bins, labels=labels, right=False)\n",
        "past_edad[219] = '36-42'\n",
        "\n",
        "# Contar por grupo\n",
        "count_past_edad = past_edad.value_counts().sort_index()\n",
        "\n",
        "\n",
        "# Graficar el diagrama de pastel\n",
        "plt.figure(figsize=(7, 8))\n",
        "count_past_edad.plot.pie(autopct='%1.1f%%', startangle=45, cmap='Pastel2', explode=(0.1, 0.2, 0.2, 0.2))\n",
        "plt.title(\"Distribución por rangos de edad (cada 6 años)\", fontweight='bold')\n",
        "plt.ylabel(\"\")\n",
        "plt.tight_layout()\n",
        "plt.show()\n",
        "\n",
        "#SEGUNDA VARIABLE A DESCRIBIR:  EDAD *BARRAS*\n",
        "\n",
        "fig, ax = plt.subplots(figsize=(9, 6)) # Ajuste del tamaño de la figura en esta línea.\n",
        "\n",
        "bars2 = ax.bar(count_past_edad.index, count_past_edad.values) #construcción gráfica de barras de edades\n",
        "\n",
        "#Quitar las marcas del eje y\n",
        "ax.yaxis.set_visible(True)\n",
        "#Dejar la línea y los guiones pequeños solamente\n",
        "ax.set_yticks([])\n",
        "ax.set_yticklabels([])\n",
        "\n",
        "#Mostrar valores como etiquetas en la parte superior del gráfico.\n",
        "ax.bar_label(bars2, fmt='%d', padding=4, fontsize=14, color='black')\n",
        "\n",
        "plt.title('DISTRIBUCIÓN DE EDAD EN ENCUESTADOS', fontweight = 'bold')\n",
        "plt.tight_layout()\n",
        "plt.show()"
      ],
      "metadata": {
        "id": "tiCgwssqwPKp"
      },
      "execution_count": null,
      "outputs": []
    },
    {
      "cell_type": "code",
      "source": [
        "#TERCERA VARIABLE A DESCRIBIR: PROGRAMA ACADÉMICO *PASTEL*\n",
        "\n",
        "past_prog = dfpre2['Programa académico'].value_counts()\n",
        "print('\\n\\n')\n",
        "\n",
        "# --- Graficamos el pastel con leyenda externa, por la cantidad de valores observados ---\n",
        "fig, ax = plt.subplots(figsize=(12, 8)) # Ajuste del tamaño de la figura en esta línea.\n",
        "\n",
        "wedges, texts, autotexts = plt.pie(\n",
        "    past_prog.values,\n",
        "    autopct='%1.1f%%',\n",
        "    startangle=90,\n",
        "    shadow=True,\n",
        "    #explode=[0.1] + [0] * (len(past_gen) - 1) # Asegura el explode correcto\n",
        ")\n",
        "plt.title('PROGRAMA ACDÉMICO DE ENCUESTADOS', fontweight = 'bold', fontsize=16)\n",
        "# Crear las etiquetas de la leyenda con el nombre y el porcentaje\n",
        "# Zip junta los nombres de las categorías (índice de past_gen) con los porcentajes de autopct\n",
        "# autotexts.get_text() te da el texto del porcentaje que se mostró en el pie.\n",
        "legend_label_prog = [f\"{label} ({val})\" for label, val in zip(past_prog.index, past_prog.values)]\n",
        "\n",
        "#Agregar la leyenda fuera del gráfico\n",
        "# bbox_to_anchor es clave para posicionar la leyenda fuera del área del gráfico\n",
        "plt.legend(wedges, legend_label_prog,\n",
        "           title=\"Programas académicos\",\n",
        "           loc=\"center left\", # Posiciona la leyenda a la izquierda\n",
        "           bbox_to_anchor=(1, 0, 0.5, 1)) # Ajusta (x, y, ancho, alto) del cuadro de leyenda\n",
        "\n",
        "plt.axis('equal') # Asegura que el pastel sea circular\n",
        "plt.tight_layout() # Ajusta el layout para que la leyenda no se corte\n",
        "plt.ylabel('') # Borramos la etiqueta de y\n",
        "plt.show()\n",
        "\n",
        "#TERCERA VARIABLE A DESCRIBIR: PROGRAMA ACADÉMICO *BARRAS*\n",
        "\n",
        "bar_prog = dfpre2['Programa académico'].value_counts()\n",
        "print('\\n\\n')\n",
        "\n",
        "fig, ax = plt.subplots(figsize=(10, 8)) # Ajuste del tamaño de la figura en esta línea.\n",
        "\n",
        "bars3 = ax.bar(bar_prog.index, bar_prog.values) #Construcción de gráfico de barras.\n",
        "\n",
        "#Quitar las marcas del eje y\n",
        "ax.yaxis.set_visible(True)\n",
        "#Dejar la línea y los guiones pequeños solamente\n",
        "ax.set_yticks([])\n",
        "ax.set_yticklabels([])\n",
        "plt.xticks(rotation=85)\n",
        "\n",
        "#Mostrar valores como etiquetas en la parte superior del gráfico.\n",
        "ax.bar_label(bars3, fmt='%d', padding=4, fontsize=14, color='black')\n",
        "\n",
        "plt.title('DISTRIBUCIÓN PROGRAMA ACADÉMICO EN ENCUESTADOS', fontweight = 'bold')\n",
        "plt.tight_layout()\n",
        "plt.show()"
      ],
      "metadata": {
        "id": "Zga-ABWUwVyT"
      },
      "execution_count": null,
      "outputs": []
    },
    {
      "cell_type": "code",
      "source": [
        "#CUARTA VARIABLE A DESCRIBIR: SEMESTRE *BARRAS*\n",
        "\n",
        "bar_sem = dfpre2['Semestre más avanzado que estás cursando'].value_counts() #Conteo de cada categoría.\n",
        "\n",
        "fig, ax = plt.subplots(figsize=(10, 6)) # Ajuste del tamaño de la figura en esta línea.\n",
        "\n",
        "bars4 = ax.bar(bar_sem.index, bar_sem.values) #Construcción de gráfico de barras.\n",
        "\n",
        "#Quitar las marcas del eje y\n",
        "ax.yaxis.set_visible(True)\n",
        "#Dejar la línea y los guiones pequeños solamente\n",
        "ax.set_yticks([])\n",
        "ax.set_yticklabels([])\n",
        "\n",
        "#Mostrar valores como etiquetas en la parte superior del gráfico.\n",
        "ax.bar_label(bars4, fmt='%d', padding=4, fontsize=14, color='black')\n",
        "\n",
        "plt.title('DISTRIBUCIÓN SEMESTRE EN ENCUESTADOS', fontweight = 'bold')\n",
        "plt.tight_layout()\n",
        "plt.show()"
      ],
      "metadata": {
        "id": "1t0QUaWbwixw"
      },
      "execution_count": null,
      "outputs": []
    },
    {
      "cell_type": "markdown",
      "source": [
        "#4 Codificación de las respuestas categóricas en las distintas características con condiciones de:\n",
        "\n",
        "  - Binarias.\n",
        "\n",
        "  - Categóricas Ordinales.\n",
        "\n",
        "    - Escala de Likert.\n",
        "    - Otras variables ordinales.\n",
        "\n",
        "  -Variables categóricas nominales."
      ],
      "metadata": {
        "id": "GRXEkow0woCO"
      }
    },
    {
      "cell_type": "code",
      "source": [
        "#Creación del objeto para la conversión de escala a número.\n",
        "\n",
        "conv_like ={\n",
        "    'Totalmente en desacuerdo': 1,\n",
        "    'Totalmente en desacuerdo\\t': 1,\n",
        "    'Totalmente en desacuerdo\\t\t': 1,\n",
        "    'En desacuerdo': 2,\n",
        "    'En desacuerdo\\t': 2,\n",
        "    'En desacuerdo\\t\t': 2,\n",
        "    'Ni de acuerdo, ni en desacuerdo': 3,\n",
        "    'De acuerdo': 4,\n",
        "    'De acuerdo\\t': 4,\n",
        "    'De acuerdo\\t\t': 4,\n",
        "    'Totalmente de acuerdo': 5\n",
        "}\n",
        "\n",
        "#Creación de lista para seleccionar las columnas a convertir.\n",
        "colum_trans = dfpre2.columns[8:72]"
      ],
      "metadata": {
        "id": "guk8ZkKyxcEh"
      },
      "execution_count": null,
      "outputs": []
    },
    {
      "cell_type": "code",
      "source": [
        "#Una vez que comprobé los valores con punto flotante los pasaré a tipo entero.\n",
        "for col in dfpre2.columns[72:75]:\n",
        "    dfpre2[col] = dfpre2[col].astype(int)\n",
        "\n",
        "#Conversión Columnas de escala Likert\n",
        "dfpre3 = dfpre2.copy()\n",
        "dfpre3[colum_trans] = dfpre3[colum_trans].replace(conv_like)"
      ],
      "metadata": {
        "id": "pO4awr6Qxk1A"
      },
      "execution_count": null,
      "outputs": []
    },
    {
      "cell_type": "code",
      "source": [
        "#Eliminación de la columna de identificadores de respuesta\n",
        "dfpre3 = dfpre3.drop(columns = ['ID de respuesta'])\n",
        "\n",
        "# Conversión de la pregunta de género a valores numéricos que representen las tres opciones de respuesta.\n",
        "dfpre3['Sexo biológico'] = dfpre3['Sexo biológico'].replace({'Hombre': 0, 'Mujer': 1, 'Prefiero no contestar': 2})\n",
        "\n",
        "#Conversión variable binaria característica de las becas.\n",
        "dfpre3['¿Tienes algún tipo de beca para realizar tus estudios?'] = dfpre3['¿Tienes algún tipo de beca para realizar tus estudios?'].replace({'Sí': 1, 'No': 0})\n"
      ],
      "metadata": {
        "id": "On1mguKWxxA4"
      },
      "execution_count": null,
      "outputs": []
    },
    {
      "cell_type": "code",
      "source": [
        "#El dataframe dfpre3 contiene las primeras transformaciones de escala likert\n",
        "#y género Se convertirán ahora las variables:\n",
        "# Semestre más avanzado que estás cursando | Máximo nivel educativo de Madre\n",
        "#o tutora | Máximo nivel educativo de Padre o tutor\n",
        "\n",
        "#Crear objeto para variable Semestre más avanzado que estás cursando\n",
        "\n",
        "conv_sem = {\n",
        "    '1°': 1,\n",
        "    '2°': 2,\n",
        "    '3°': 3,\n",
        "    '4°': 4,\n",
        "    '5°': 5,\n",
        "    '6°': 6,\n",
        "    '7°': 7,\n",
        "    '8°': 8,\n",
        "    '9°': 9,\n",
        "    '10°': 10\n",
        "}\n",
        "\n",
        "#Crear Objeto para variable Máximo nivel educativo de Madre/Padre o tutor(a)\n",
        "\n",
        "conv_tut = {\n",
        "    'No tengo padre y/o tutor': 0,\n",
        "    'No tengo madre y/o tutora': 0,\n",
        "    'Ninguno': 1,\n",
        "    'Primaria': 2,\n",
        "    'Secundaria': 3,\n",
        "    'Técnica':4,\n",
        "    'Tecnológica': 5,\n",
        "    'Profesional': 6,\n",
        "    'Especialización': 7,\n",
        "    'Maestría': 8,\n",
        "    'Doctorado': 9\n",
        "}\n",
        "\n",
        "#Se convertirán ahora las variables: en numéricas por ser ordinales\n",
        "# Semestre más avanzado que estás cursando | Máximo nivel educativo de Madre\n",
        "#o tutora | Máximo nivel educativo de Padre o tutor\n",
        "\n",
        "dfpre3['Semestre más avanzado que estás cursando'] = dfpre3['Semestre más avanzado que estás cursando'].replace(conv_sem)\n",
        "dfpre3['Máximo nivel educativo de Madre o tutora'] = dfpre3['Máximo nivel educativo de Madre o tutora'].replace(conv_tut)\n",
        "dfpre3['Máximo nivel educativo de Padre o tutor'] = dfpre3['Máximo nivel educativo de Padre o tutor'].replace(conv_tut)"
      ],
      "metadata": {
        "id": "MOO5yBdDxzo7"
      },
      "execution_count": null,
      "outputs": []
    },
    {
      "cell_type": "code",
      "source": [
        "#Agregar las >Dummy Variables para la Variable categórica. Nominal\n",
        "\n",
        "#En primer lugar crear el Objeto que me permita seleccionar la columna a transformar\n",
        "\n",
        "col_dumis = [\n",
        "    'Programa académico'\n",
        "]\n",
        "\n",
        "#Agregar las >Dummy Variables para la Variable categórica.\n",
        "\n",
        "#Aplicar OneHotEncoding y reemplazar las columnas originales.\n",
        "dfpre4 = pd.get_dummies(dfpre4, columns=col_dumis, prefix_sep='_', drop_first=False)\n",
        "\n",
        "#Quitar los valore booleanos y solo permitir valores numéricos.\n",
        "cols_bool = dfpre4.select_dtypes(include='bool').columns\n",
        "dfpre4[cols_bool] = dfpre4[cols_bool].astype(int)"
      ],
      "metadata": {
        "id": "du4zpNE6x-Jg"
      },
      "execution_count": null,
      "outputs": []
    },
    {
      "cell_type": "markdown",
      "source": [
        "#5 PREPARACIÓN DEL DATAFRAME 'dfpre4' PARA SER UTILIZADO EN LOS MODELOS DE ANÁLISIS Y APRENDIZAJE AUTOMÁTICO"
      ],
      "metadata": {
        "id": "E9aXsEmvyTV8"
      }
    },
    {
      "cell_type": "markdown",
      "source": [
        "## 5.1. Nombres y clasificación de columnas por constructo."
      ],
      "metadata": {
        "id": "fiQ3SvdsyYy6"
      }
    },
    {
      "cell_type": "code",
      "source": [
        "#Colocar nombres más cortos a las variables para que no queden como las\n",
        "#Preguntas originales de la encuesta\n",
        "\n",
        "dfpre5 = dfpre4.copy()\n",
        "\n",
        "#Creación de objeto con los nombres nuevos para las variables\n",
        "\n",
        "nue_nom_var = [\n",
        "    \"EDAD\", \"SEXO\", \"SEMESTRE\", \"BECA\", \"TUTORAM\", \"TUTORH\", \"AUTOEFICACIA_1\",\n",
        "    \"AUTOEFICACIA_2\", \"AUTOEFICACIA_3\", \"AUTOEFICACIA_4\", \"AUTOREGU_1\",\n",
        "    \"AUTOREGU_2\", \"AUTOREGU_3\", \"AUTOREGU_4\", \"AUTOREGU_5\", \"AUTOREGU_6\",\n",
        "    \"INTR_1\", \"INTR_2\", \"INTR_3\", \"INTR_4\", \"EXTR_1\", \"EXTR_2\", \"EXTR_3\",\n",
        "    \"EXTR_4\", \"AUTOEFICACIA_5\", \"AUTOEFICACIA_6\", \"AUTOEFICACIA_7\",\n",
        "    \"AUTOEFICACIA_8\", \"AUTOEFICACIA_9\", \"PERTPRO_1\", \"PERTPRO_2\", \"PERTPRO_3\",\n",
        "    \"PERTPRO_4\", \"PERTPRO_5\", \"PERTPRO_6\", \"PERTPRO_7\", \"PERTPRO_8\",\n",
        "    \"PERTSTEM_1\", \"PERTSTEM_2\", \"PERTSTEM_3\", \"PERTSTEM_4\", \"COMPROMISO_1\",\n",
        "    \"COMPROMISO_2\", \"COMPROMISO_3\", \"COMPROMISO_4\", \"COMPROMISO_5\",\n",
        "    \"EXPEMPLEO_1\", \"EXPEMPLEO_2\", \"EXPEMPLEO_3\", \"EXPEMPLEO_4\", \"EXPEXITO_1\",\n",
        "    \"EXPEXITO_2\", \"EXPEXITO_3\", \"EXPEXITO_4\", \"EXPEXITO_5\", \"EXPEXITO_6\",\n",
        "    \"EXPEXITO_7\", \"EXPVALPER_1\", \"EXPVALPER_2\", \"EXPVALPER_3\", \"EXPVALPER_4\",\n",
        "    \"EXPVALPER_5\", \"EXPVALPER_6\", \"EXPVALPER_7\", \"EXPVALPER_8\", \"ABANDON_1\",\n",
        "    \"ABANDON_2\", \"ABANDON_3\", \"ABANDON_4\", \"ABANDON_5\", \"CGENPROG\",\n",
        "    \"CESTPROG\", \"CGENSTE\", \"BIOLOG\", \"DISEÑO\", \"GEOLOG\", \"IAGRON\", \"ICIVIL\",\n",
        "    \"IFISIC\", \"IINDUS\", \"IMATEM\", \"IMECAN\", \"IDISPRO\", \"IPROCE\", \"IPRODU\",\n",
        "    \"ISISTE\"\n",
        "]\n",
        "\n",
        "#Conversión de nombres de columnas\n",
        "dfpre5.columns = nue_nom_var  #Operación de conversión\n",
        "\n",
        "\n",
        "\n",
        "#CLASIFICACIÓN DE COLUMNAS POR CONSTRUCTO\n",
        "#CREACIÓN DE OBJETOS QUE AGRUPEN LAS COLUMNAS DE CADA CONSTRUCTO\n",
        "\n",
        "#\"\"\"{1.AUTOEFICACIA, 2.AUTORREGULACION, 3.MOTIVACION INTRINSECA,\n",
        "#4.MOTIVACION EXTRINSECA, 5.SENTIDO DE PERTENENCIA AL PROGRAMA,\n",
        "#6.SENTIDO DE PERTENENCIA A STEM, 7.COMPROMISO ACADÉMICO\n",
        "#,8.EXPECTATIVAS DE EMPLEO, 9.EXPECTATIVAS DE VALOR TENER ÉXITO EN STEM,\n",
        "#10.EXPECTATIVAS DEL VALOR PERCIBIDO EN STEM,\n",
        "#11.INTENCIÓN DE ABANDONAR,12.COMPATIBILIDAD GENERO-PROGRAMA,\n",
        "#13.COMPATIBILIDAD ESTUDIANTE-STEM,14.COMPATIBILIDAD GENERO-STEM}\"\"\"\n",
        "\n",
        "# 1. AUTOEFICACIA\n",
        "autoeficacia_cols = ['AUTOEFICACIA_1', 'AUTOEFICACIA_2', 'AUTOEFICACIA_3', 'AUTOEFICACIA_4',\n",
        "                     'AUTOEFICACIA_5', 'AUTOEFICACIA_6', 'AUTOEFICACIA_7', 'AUTOEFICACIA_8',\n",
        "                     'AUTOEFICACIA_9']\n",
        "# 2. AUTORREGULACION\n",
        "autorregu_cols = ['AUTOREGU_1', 'AUTOREGU_2', 'AUTOREGU_3', 'AUTOREGU_4', 'AUTOREGU_5', 'AUTOREGU_6']\n",
        "\n",
        "# 3. MOTIVACION INTRINSECA\n",
        "motivintrinseca_cols = ['INTR_1', 'INTR_2', 'INTR_3', 'INTR_4']\n",
        "\n",
        "# 4. MOTIVACION EXTRINSECA\n",
        "motivoextrinseca_cols = ['EXTR_1', 'EXTR_2', 'EXTR_3', 'EXTR_4']\n",
        "\n",
        "# 5. SENTIDO DE PERTENENCIA AL PROGRAMA\n",
        "pertprograma_cols = ['PERTPRO_1', 'PERTPRO_2', 'PERTPRO_3', 'PERTPRO_4', 'PERTPRO_5', 'PERTPRO_6', 'PERTPRO_7', 'PERTPRO_8']\n",
        "\n",
        "# 6. SENTIDO DE PERTENENCIA A STEM\n",
        "pertstem_cols = ['PERTSTEM_1', 'PERTSTEM_2', 'PERTSTEM_3', 'PERTSTEM_4']\n",
        "\n",
        "# 7. COMPROMISO ACADÉMICO\n",
        "compracad_cols = ['COMPROMISO_1', 'COMPROMISO_2', 'COMPROMISO_3', 'COMPROMISO_4', 'COMPROMISO_5']\n",
        "\n",
        "# 8. EXPECTATIVAS DE EMPLEO\n",
        "expempleo_cols = ['EXPEMPLEO_1', 'EXPEMPLEO_2', 'EXPEMPLEO_3', 'EXPEMPLEO_4']\n",
        "\n",
        "# 9. EXPECTATIVAS DE VALOR TENER ÉXITO EN STEM\n",
        "expvalexit_cols = ['EXPEXITO_1', 'EXPEXITO_2', 'EXPEXITO_3', 'EXPEXITO_4', 'EXPEXITO_5', 'EXPEXITO_6', 'EXPEXITO_7']\n",
        "\n",
        "# 10. EXPECTATIVAS DEL VALOR PERCIBIDO EN STEM\n",
        "expvalper_cols = ['EXPVALPER_1', 'EXPVALPER_2', 'EXPVALPER_3', 'EXPVALPER_4', 'EXPVALPER_5', 'EXPVALPER_6', 'EXPVALPER_7', 'EXPVALPER_8']\n",
        "\n",
        "# 11. INTENCIÓN DE ABANDONAR\n",
        "abandona_cols = ['ABANDON_1', 'ABANDON_2', 'ABANDON_3', 'ABANDON_4', 'ABANDON_5']\n",
        "\n",
        "# 12. COMPATIBILIDAD GENERO-PROGRAMA\n",
        "compatgenprog_cols = ['CGENPROG']\n",
        "\n",
        "# 13. COMPATIBILIDAD ESTUDIANTE-STEM\n",
        "compatestud_cols = ['CESTPROG']\n",
        "\n",
        "# 14. COMPATIBILIDAD GENERO-STEM\n",
        "compatgen_cols = ['CGENSTE']"
      ],
      "metadata": {
        "id": "CwYnO-VvyYFm"
      },
      "execution_count": null,
      "outputs": []
    },
    {
      "cell_type": "markdown",
      "source": [
        "##5.2 Cálculo del alfa de Cronbach por constructo"
      ],
      "metadata": {
        "id": "kCWgdzlkywoY"
      }
    },
    {
      "cell_type": "code",
      "source": [
        "#Alfa [1. AUTOEFICACIA]\n",
        "autoef1 = dfpre5[autoeficacia_cols]\n",
        "alfa1, _ = cronbach_alpha(data=autoef1)\n",
        "#Alfa [2. AUTORREGULACION]\n",
        "autorreg1 = dfpre5[autorregu_cols]\n",
        "alfa2, _ = cronbach_alpha(data=autorreg1)\n",
        "#Alfa [3. MOTIVACION INTRINSECA]\n",
        "motivintrinseca1 = dfpre5[motivintrinseca_cols]\n",
        "alfa3, _ = cronbach_alpha(data=motivintrinseca1)\n",
        "#Alfa [4. MOTIVACION EXTRINSECA]\n",
        "motivoextrinseca1 = dfpre5[motivoextrinseca_cols]\n",
        "alfa4, _ = cronbach_alpha(data=motivoextrinseca1)\n",
        "#Alfa [5. SENTIDO DE PERTENENCIA AL PROGRAMA]\n",
        "pertprograma1 = dfpre5[pertprograma_cols]\n",
        "alfa5, _ = cronbach_alpha(data=pertprograma1)\n",
        "#Alfa [6. SENTIDO DE PERTENENCIA A STEM]\n",
        "pertstem1 = dfpre5[pertstem_cols]\n",
        "alfa6, _ = cronbach_alpha(data=pertstem1)\n",
        "#Alfa [7. COMPROMISO ACADÉMICO]\n",
        "compracad1 = dfpre5[compracad_cols]\n",
        "alfa7, _ = cronbach_alpha(data=compracad1)\n",
        "#Alfa [8. EXPECTATIVAS DE EMPLEO]\n",
        "expempleo1 = dfpre5[expempleo_cols]\n",
        "alfa8, _ = cronbach_alpha(data=expempleo1)\n",
        "#Alfa [9. EXPECTATIVAS DE VALOR TENER ÉXITO EN STEM]\n",
        "expvalexit1 = dfpre5[expvalexit_cols]\n",
        "alfa9, _ = cronbach_alpha(data=expvalexit1)\n",
        "#Alfa [10. EXPECTATIVAS DEL VALOR PERCIBIDO EN STEM]\n",
        "expvalper1 = dfpre5[expvalper_cols]\n",
        "alfa10, _ = cronbach_alpha(data=expvalper1)\n",
        "#Alfa [11. INTENCIÓN DE ABANDONAR]\n",
        "abandona1 = dfpre5[abandona_cols]\n",
        "alfa11, _ = cronbach_alpha(data=abandona1)\n",
        "\n",
        "#Los constructos 12, 13 y 14 sólo tienen una pregunta, por lo tanto no se\n",
        "#requiere de aplicar un método para saber si hay coherencia entre varios.\n",
        "\n",
        "#Alfa [12. COMPATIBILIDAD GENERO-PROGRAMA]\n",
        "#compatgenprog1 = dfpre5[compatgenprog_cols]\n",
        "#alfa12, _ = cronbach_alpha(data=compatgenprog1)\n",
        "#Alfa [13. COMPATIBILIDAD ESTUDIANTE-STEM]\n",
        "#compatestud1 = dfpre5[compatestud_cols]\n",
        "#alfa13, _ = cronbach_alpha(data=compatestud1)\n",
        "#Alfa [14. COMPATIBILIDAD GENERO-STEM]\n",
        "#compatgen1 = dfpre5[compatgen_cols]\n",
        "#alfa14, _ = cronbach_alpha(data=compatgen1)\n",
        "print(f\"Alfa de Cronbach para AUTOEFICACIA: {alfa1:.4f}\")\n",
        "print(f\"Alfa de Cronbach para AUTORREGULACION: {alfa2:.4f}\")\n",
        "print(f\"Alfa de Cronbach para MOTIVACION INTRINSECA: {alfa3:.4f}\")\n",
        "print(f\"Alfa de Cronbach para MOTIVACION EXTRINSECA: {alfa4:.4f}\")\n",
        "print(f\"Alfa de Cronbach para SENTIDO DE PERTENENCIA AL PROGRAMA: {alfa5:.4f}\")\n",
        "print(f\"Alfa de Cronbach para SENTIDO DE PERTENENCIA A STEM: {alfa6:.4f}\")\n",
        "print(f\"Alfa de Cronbach para COMPROMISO ACADÉMICO: {alfa7:.4f}\")\n",
        "print(f\"Alfa de Cronbach para EXPECTATIVAS DE EMPLEO: {alfa8:.4f}\")\n",
        "print(f\"Alfa de Cronbach para EXPECTATIVAS DE VALOR TENER ÉXITO EN STEM: {alfa9:.4f}\")\n",
        "print(f\"Alfa de Cronbach para EXPECTATIVAS DEL VALOR PERCIBIDO EN STEM: {alfa10:.4f}\")\n",
        "print(f\"Alfa de Cronbach para INTENCIÓN DE ABANDONAR: {alfa11:.4f}\")\n",
        "#print(f\"Alfa de Cronbach para COMPATIBILIDAD GENERO-PROGRAMA: {alfa12:.4f}\")\n",
        "#print(f\"Alfa de Cronbach para COMPATIBILIDAD ESTUDIANTE-STEM: {alfa13:.4f}\")\n",
        "#print(f\"Alfa de Cronbach para COMPATIBILIDAD GENERO-STEM: {alfa14:.4f}\")"
      ],
      "metadata": {
        "id": "pMl8kPBUyurM"
      },
      "execution_count": null,
      "outputs": []
    },
    {
      "cell_type": "markdown",
      "source": [
        "Todos los valores del alfa de cronbach muestran consistencia\n",
        "\n",
        "α ≥ 0.70 → Aceptable\n",
        "\n",
        "α ≥ 0.80 → Bueno\n",
        "\n",
        "α ≥ 0.90 → Excelente"
      ],
      "metadata": {
        "id": "Efffc1Bcy9ws"
      }
    },
    {
      "cell_type": "markdown",
      "source": [
        "##5.3 Reducción de dimensiones por constructo\n"
      ],
      "metadata": {
        "id": "MLb8mA4-zHdF"
      }
    },
    {
      "cell_type": "code",
      "source": [
        "#Los dataframe por constructo se denominan\n",
        "#{autoef1, autorreg1, motivintrinseca1, motivoextrinseca1,\n",
        "#pertprograma1, pertstem1, compracad1, expempleo1,\n",
        "#expvalexit1, expvalper1, abandona1, compatgenprog1,\n",
        "#compatestud1, compatgen1}\n",
        "\n",
        "# [12. COMPATIBILIDAD GENERO-PROGRAMA]\n",
        "compatgenprog1 = dfpre5[compatgenprog_cols]\n",
        "\n",
        "# [13. COMPATIBILIDAD ESTUDIANTE-STEM]\n",
        "compatestud1 = dfpre5[compatestud_cols]\n",
        "\n",
        "# [14. COMPATIBILIDAD GENERO-STEM]\n",
        "compatgen1 = dfpre5[compatgen_cols]\n",
        "\n",
        "# DESCARGA DE LIBRERIAS PARA LA REDUCCION DE DIMENSIONES\n",
        "\n",
        "from sklearn.preprocessing import StandardScaler\n",
        "from sklearn.decomposition import PCA"
      ],
      "metadata": {
        "id": "8hnQ7Rd7zHIj"
      },
      "execution_count": null,
      "outputs": []
    },
    {
      "cell_type": "code",
      "source": [
        "# Paso 1 asignación de variable constructo.\n",
        "X1 = autoef1\n",
        "X2 = autorreg1\n",
        "X3 = motivintrinseca1\n",
        "X4 = motivoextrinseca1\n",
        "X5 = pertprograma1\n",
        "X6 = pertstem1\n",
        "X7 = compracad1\n",
        "X8 = expempleo1\n",
        "X9 = expvalexit1\n",
        "X10 = expvalper1\n",
        "X11 = abandona1\n",
        "X12 = compatgenprog1\n",
        "X13 = compatestud1\n",
        "X14 = compatgen1\n",
        "\n",
        "# Paso 2 Estandarizar las columnas con 'z'\n",
        "scaler = StandardScaler()\n",
        "\n",
        "# 2.1. Aplicar Z-score\n",
        "\n",
        "X1S = scaler.fit_transform(X1)\n",
        "X2S = scaler.fit_transform(X2)\n",
        "X3S = scaler.fit_transform(X3)\n",
        "X4S = scaler.fit_transform(X4)\n",
        "X5S = scaler.fit_transform(X5)\n",
        "X6S = scaler.fit_transform(X6)\n",
        "X7S = scaler.fit_transform(X7)\n",
        "X8S = scaler.fit_transform(X8)\n",
        "X9S = scaler.fit_transform(X9)\n",
        "X10S = scaler.fit_transform(X10)\n",
        "X11S = scaler.fit_transform(X11)\n",
        "X12S = scaler.fit_transform(X12)\n",
        "X13S = scaler.fit_transform(X13)\n",
        "X14S = scaler.fit_transform(X14)\n",
        "\n",
        "# Paso 3 Aplicar el PCA para reducción de dimensiones\n",
        "pca = PCA(n_components=1)\n",
        "\n",
        "# Aplicar PCA a cada constructo\n",
        "PC1 = pca.fit_transform(X1S)\n",
        "PC2 = pca.fit_transform(X2S)\n",
        "PC3 = pca.fit_transform(X3S)\n",
        "PC4 = pca.fit_transform(X4S)\n",
        "PC5 = pca.fit_transform(X5S)\n",
        "PC6 = pca.fit_transform(X6S)\n",
        "PC7 = pca.fit_transform(X7S)\n",
        "PC8 = pca.fit_transform(X8S)\n",
        "PC9 = pca.fit_transform(X9S)\n",
        "PC10 = pca.fit_transform(X10S)\n",
        "PC11 = pca.fit_transform(X11S)\n",
        "PC12 = X12S\n",
        "PC13 = X13S\n",
        "PC14 = X14S"
      ],
      "metadata": {
        "id": "4T7HUwwXy6zI"
      },
      "execution_count": null,
      "outputs": []
    },
    {
      "cell_type": "code",
      "source": [
        "# visualizar como quedaron los PCnn\n",
        "\n",
        "#Opciones del arreglo de números Numpy para quitar la notación científica.\n",
        "np.set_printoptions(precision=3, suppress=True)\n",
        "\n",
        "#Mostrar en pantalla el arreglo resultante con la notación más adecuada.\n",
        "print(PC1)"
      ],
      "metadata": {
        "id": "h1aTVVmtzdUX"
      },
      "execution_count": null,
      "outputs": []
    },
    {
      "cell_type": "code",
      "source": [
        "#Unir los arreglos PCA generados y conformar una matriz\n",
        "\n",
        "matriz_pca = np.column_stack((PC1, PC2, PC3, PC4, PC5, PC6, PC7, PC8, PC9, PC10, PC11, PC12, PC13, PC14))\n",
        "\n",
        "#convertir la matriz en un dataframe de pandas\n",
        "\n",
        "col_pca = ['PC1', 'PC2', 'PC3', 'PC4', 'PC5', 'PC6', 'PC7', 'PC8', 'PC9', 'PC10', 'PC11', 'PC12', 'PC13', 'PC14']\n",
        "\n",
        "df_pca = pd.DataFrame(matriz_pca, columns=col_pca)\n",
        "\n",
        "print(df_pca.tail())"
      ],
      "metadata": {
        "id": "MrVboabezh7R"
      },
      "execution_count": null,
      "outputs": []
    },
    {
      "cell_type": "code",
      "source": [
        "#Seleccionar de dfpre5 las columnas a unir\n",
        "\n",
        "col_anadir = ['EDAD', 'SEXO', 'SEMESTRE', 'BECA', 'TUTORAM', 'TUTORH',\n",
        "              'BIOLOG', 'DISEÑO', 'GEOLOG', 'IAGRON', 'ICIVIL', 'IFISIC',\n",
        "              'IINDUS', 'IMATEM', 'IMECAN', 'IDISPRO', 'IPROCE', 'IPRODU',\n",
        "              'ISISTE'\n",
        "              ]\n",
        "\n",
        "df_resvar = dfpre5[col_anadir]\n",
        "df_resvar.reset_index(drop=True, inplace=True)\n",
        "df_pca.reset_index(drop=True)\n",
        "df_cluster = pd.concat([df_pca, df_resvar], axis=1)\n",
        "\n",
        "df_cluster.tail(10)"
      ],
      "metadata": {
        "id": "k1OP1JoczlMz"
      },
      "execution_count": null,
      "outputs": []
    },
    {
      "cell_type": "code",
      "source": [
        "#Descarga de Tabla para meter en algoritmos de agrupamiento\n",
        "df_cluster.to_csv('df_cluster_27jun.csv', index=False)\n",
        "\n",
        "# Descargar el archivo\n",
        "from google.colab import files\n",
        "files.download('df_cluster_27jun.csv')"
      ],
      "metadata": {
        "id": "wA1dS_91zq5F"
      },
      "execution_count": null,
      "outputs": []
    }
  ]
}