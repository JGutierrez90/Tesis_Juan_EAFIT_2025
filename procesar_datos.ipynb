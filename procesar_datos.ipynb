{
  "cells": [
    ...
  ],
  "metadata": {
    ...
  },
  "nbformat": 4,
  "nbformat_minor": 5
}

#notebooks/procesar_datos.ipynb

#Esta notebook de Python contiene el código utilizado para realizar el procesamiento de los datos de la encuesta realizada a los estudiantes de programas STEM en la Universidad EAFIT de Medellín.
