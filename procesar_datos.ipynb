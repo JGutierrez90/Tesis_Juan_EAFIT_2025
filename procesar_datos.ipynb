{
 "cells": [
  {
   "cell_type": "markdown",
   "metadata": {},
   "source": [
    "# Procesamiento de datos\n",
    "Esta notebook contiene el c\u00f3digo utilizado para realizar el procesamiento de los datos de la encuesta aplicada a estudiantes de programas STEM en la Universidad EAFIT de Medell\u00edn."
   ]
  },
  {
   "cell_type": "code",
   "execution_count": null,
   "metadata": {},
   "outputs": [],
   "source": [
    "# Aquí va el código de procesamiento\n",
    "import pandas as pd\n",
    "import numpy as np"
   ]
  }
 ],
 "metadata": {
  "kernelspec": {
   "display_name": "Python 3",
   "language": "python",
   "name": "python3"
  },
  "language_info": {
   "name": "python",
   "version": "3.10"
  }
 },
 "nbformat": 4,
 "nbformat_minor": 5
}
